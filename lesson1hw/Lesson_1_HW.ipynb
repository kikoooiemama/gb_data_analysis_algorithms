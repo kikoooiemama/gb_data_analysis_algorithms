{
 "cells": [
  {
   "cell_type": "markdown",
   "metadata": {
    "id": "Kw01g10zBjZr"
   },
   "source": [
    "## Урок 1. Алгоритм линейной регрессии. Градиентный спуск"
   ]
  },
  {
   "cell_type": "code",
   "execution_count": 1,
   "metadata": {
    "id": "ak8b3KV45kVW"
   },
   "outputs": [],
   "source": [
    "import numpy as np\n",
    "import matplotlib.pyplot as plt"
   ]
  },
  {
   "cell_type": "markdown",
   "metadata": {
    "id": "VphnS-M8BjZ5"
   },
   "source": [
    "__Задача:__ предсказание баллов ЕГЭ ученика в зависимости от количества лет стажа его репетитора"
   ]
  },
  {
   "cell_type": "code",
   "execution_count": 2,
   "metadata": {
    "id": "i77tZbAd5plB",
    "outputId": "784cb9ea-d0b1-4633-8ded-80edaa795b76"
   },
   "outputs": [
    {
     "data": {
      "text/plain": [
       "array([[ 1,  1,  1,  1,  1,  1,  1,  1,  1,  1],\n",
       "       [ 1,  1,  2,  5,  3,  0,  5, 10,  1,  2]])"
      ]
     },
     "execution_count": 2,
     "metadata": {},
     "output_type": "execute_result"
    }
   ],
   "source": [
    "X = np.array([[1, 1, 1, 1, 1, 1, 1, 1, 1, 1],\n",
    "              [1, 1, 2, 5, 3, 0, 5, 10, 1, 2]])\n",
    "X"
   ]
  },
  {
   "cell_type": "code",
   "execution_count": 3,
   "metadata": {
    "colab": {
     "base_uri": "https://localhost:8080/",
     "height": 34
    },
    "id": "ejifaMBe6VaP",
    "outputId": "190a541b-5c6d-48f6-8982-b513de5d7606"
   },
   "outputs": [
    {
     "data": {
      "text/plain": [
       "(2, 10)"
      ]
     },
     "execution_count": 3,
     "metadata": {},
     "output_type": "execute_result"
    }
   ],
   "source": [
    "X.shape"
   ]
  },
  {
   "cell_type": "code",
   "execution_count": 4,
   "metadata": {
    "id": "VsNrKi1Q6Wmh"
   },
   "outputs": [],
   "source": [
    "y = [45, 55, 50, 55, 60, 35, 75, 80, 50, 60]"
   ]
  },
  {
   "cell_type": "markdown",
   "metadata": {
    "id": "KCwytUyLBjZ_"
   },
   "source": [
    "Уравнение прямой: $y = a*x + b$"
   ]
  },
  {
   "cell_type": "code",
   "execution_count": 5,
   "metadata": {
    "id": "NntLxvtU7CbH"
   },
   "outputs": [],
   "source": [
    "y_pred1 = 35 * np.ones(10) + X[1]*5\n",
    "y_pred2 = 40 * np.ones(10) + X[1]*7.5"
   ]
  },
  {
   "cell_type": "code",
   "execution_count": 6,
   "metadata": {
    "colab": {
     "base_uri": "https://localhost:8080/",
     "height": 282
    },
    "id": "OTikrodr6n-i",
    "outputId": "9c347927-ae0d-40ba-bcd7-fdd9de2688bf"
   },
   "outputs": [
    {
     "data": {
      "image/png": "[encoded data removed]",
      "text/plain": [
       "<Figure size 432x288 with 1 Axes>"
      ]
     },
     "metadata": {
      "needs_background": "light"
     },
     "output_type": "display_data"
    }
   ],
   "source": [
    "plt.scatter(X[1], y)\n",
    "plt.plot(X[1], y_pred1, label='1')\n",
    "plt.plot(X[1], y_pred2, label='2')\n",
    "plt.legend()\n",
    "plt.show()"
   ]
  },
  {
   "cell_type": "markdown",
   "metadata": {
    "id": "PoGiEvgRBjaE"
   },
   "source": [
    "Простая ошибка:"
   ]
  },
  {
   "cell_type": "code",
   "execution_count": 7,
   "metadata": {
    "id": "zbsqjAxH9WqI",
    "outputId": "275ebf45-370d-4b10-d672-a515fab31e7c"
   },
   "outputs": [
    {
     "data": {
      "text/plain": [
       "(65.0, -60.0)"
      ]
     },
     "execution_count": 7,
     "metadata": {},
     "output_type": "execute_result"
    }
   ],
   "source": [
    "err1 = np.sum(y - y_pred1)\n",
    "err2 = np.sum(y - y_pred2)\n",
    "err1, err2"
   ]
  },
  {
   "cell_type": "markdown",
   "metadata": {
    "id": "mKomUlv3BjaG"
   },
   "source": [
    "MAE (Mean Absolute Error):"
   ]
  },
  {
   "cell_type": "code",
   "execution_count": 8,
   "metadata": {
    "id": "vUqCthPf9eYI",
    "outputId": "ae4eefa4-ba6b-4bee-a26d-fa573d9a70f9"
   },
   "outputs": [
    {
     "data": {
      "text/plain": [
       "(8.5, 9.0)"
      ]
     },
     "execution_count": 8,
     "metadata": {},
     "output_type": "execute_result"
    }
   ],
   "source": [
    "mae_1 = np.sum(np.abs(y - y_pred1)) / 10\n",
    "mae_2 = np.sum(np.abs(y - y_pred2)) / 10\n",
    "mae_1, mae_2"
   ]
  },
  {
   "cell_type": "markdown",
   "metadata": {
    "id": "QdkR8AXyBjaI"
   },
   "source": [
    "MSE (Mean Squared Error):"
   ]
  },
  {
   "cell_type": "code",
   "execution_count": 9,
   "metadata": {
    "id": "XTn2bZIg_EBS",
    "outputId": "ec71ad62-9b62-4308-fcd0-239f107d35c3"
   },
   "outputs": [
    {
     "data": {
      "text/plain": [
       "(97.5, 188.75)"
      ]
     },
     "execution_count": 9,
     "metadata": {},
     "output_type": "execute_result"
    }
   ],
   "source": [
    "mse_1 = np.mean((y - y_pred1)**2)\n",
    "mse_2 = np.mean((y - y_pred2)**2)\n",
    "mse_1, mse_2"
   ]
  },
  {
   "cell_type": "markdown",
   "metadata": {
    "id": "R4zHyZ2Da5HV"
   },
   "source": [
    "Метод наименьших квадратов (МНК):"
   ]
  },
  {
   "cell_type": "code",
   "execution_count": 10,
   "metadata": {
    "colab": {
     "base_uri": "https://localhost:8080/",
     "height": 34
    },
    "id": "GEeiext0BR1m",
    "outputId": "2a5e98e6-e201-4cf9-c113-bb207490b31e"
   },
   "outputs": [
    {
     "data": {
      "text/plain": [
       "(2, 10)"
      ]
     },
     "execution_count": 10,
     "metadata": {},
     "output_type": "execute_result"
    }
   ],
   "source": [
    "X.shape"
   ]
  },
  {
   "cell_type": "code",
   "execution_count": 11,
   "metadata": {
    "colab": {
     "base_uri": "https://localhost:8080/",
     "height": 34
    },
    "id": "j1BN1FZHBVo8",
    "outputId": "d5820bdf-e0a3-4de0-96ef-b73e9b43fd64"
   },
   "outputs": [
    {
     "data": {
      "text/plain": [
       "(10, 2)"
      ]
     },
     "execution_count": 11,
     "metadata": {},
     "output_type": "execute_result"
    }
   ],
   "source": [
    "X.T.shape"
   ]
  },
  {
   "cell_type": "code",
   "execution_count": 12,
   "metadata": {
    "id": "X6Jhs8W8BjaK",
    "outputId": "42e35057-8799-4927-8ee2-b320fa3e88e4"
   },
   "outputs": [
    {
     "data": {
      "text/plain": [
       "True"
      ]
     },
     "execution_count": 12,
     "metadata": {},
     "output_type": "execute_result"
    }
   ],
   "source": [
    "all(X @ y == np.dot(X,y))"
   ]
  },
  {
   "cell_type": "code",
   "execution_count": 13,
   "metadata": {
    "colab": {
     "base_uri": "https://localhost:8080/",
     "height": 34
    },
    "id": "mnyZzkaDBegD",
    "outputId": "368800a6-deef-46d0-b27f-d6eb5e46a743"
   },
   "outputs": [
    {
     "data": {
      "text/plain": [
       "array([45.0625,  3.8125])"
      ]
     },
     "execution_count": 13,
     "metadata": {},
     "output_type": "execute_result"
    }
   ],
   "source": [
    "W = np.linalg.inv(np.dot(X, X.T)) @ X @ y\n",
    "W"
   ]
  },
  {
   "cell_type": "code",
   "execution_count": 14,
   "metadata": {
    "id": "IukREVxDBjaM"
   },
   "outputs": [],
   "source": [
    "y_pred3 = W[0] * X[0] + W[1] * X[1]"
   ]
  },
  {
   "cell_type": "code",
   "execution_count": 15,
   "metadata": {
    "colab": {
     "base_uri": "https://localhost:8080/",
     "height": 282
    },
    "id": "Lyg-J3H7Bnv5",
    "outputId": "7701dd28-d123-4773-cd1f-1439abfb6d90"
   },
   "outputs": [
    {
     "data": {
      "image/png": "[encoded data removed]",
      "text/plain": [
       "<Figure size 432x288 with 1 Axes>"
      ]
     },
     "metadata": {
      "needs_background": "light"
     },
     "output_type": "display_data"
    }
   ],
   "source": [
    "plt.scatter(X[1], y)\n",
    "plt.plot(X[1], y_pred1, label='1 - manual')\n",
    "plt.plot(X[1], y_pred2, label='2 - manual')\n",
    "plt.plot(X[1], y_pred3, label='3 - analytical solution, LSM')\n",
    "plt.legend()\n",
    "plt.show()"
   ]
  },
  {
   "cell_type": "code",
   "execution_count": 16,
   "metadata": {
    "id": "JTSC2cFnCd8T"
   },
   "outputs": [],
   "source": [
    "def calc_mae(y, y_pred):\n",
    "    err = np.mean(np.abs(y - y_pred))\n",
    "    return err\n",
    "\n",
    "def calc_mse(y, y_pred):\n",
    "    err = np.mean((y - y_pred)**2) # <=> 1/n * np.sum((y_pred - y)**2)\n",
    "    return err"
   ]
  },
  {
   "cell_type": "code",
   "execution_count": 17,
   "metadata": {
    "colab": {
     "base_uri": "https://localhost:8080/",
     "height": 34
    },
    "id": "MYSrwISJDGfS",
    "outputId": "891bfd3a-142c-466c-a9d9-7ebfb303e86c"
   },
   "outputs": [
    {
     "data": {
      "text/plain": [
       "(8.5, 97.5)"
      ]
     },
     "execution_count": 17,
     "metadata": {},
     "output_type": "execute_result"
    }
   ],
   "source": [
    "calc_mae(y, y_pred1), calc_mse(y, y_pred1)"
   ]
  },
  {
   "cell_type": "code",
   "execution_count": 18,
   "metadata": {
    "colab": {
     "base_uri": "https://localhost:8080/",
     "height": 34
    },
    "id": "oi4FNXFlBjaN",
    "outputId": "891bfd3a-142c-466c-a9d9-7ebfb303e86c"
   },
   "outputs": [
    {
     "data": {
      "text/plain": [
       "(9.0, 188.75)"
      ]
     },
     "execution_count": 18,
     "metadata": {},
     "output_type": "execute_result"
    }
   ],
   "source": [
    "calc_mae(y, y_pred2), calc_mse(y, y_pred2)"
   ]
  },
  {
   "cell_type": "code",
   "execution_count": 19,
   "metadata": {
    "colab": {
     "base_uri": "https://localhost:8080/",
     "height": 34
    },
    "id": "_WtO6lvhDmQ6",
    "outputId": "8de8b895-85d8-448e-f565-b70e93a5dd25"
   },
   "outputs": [
    {
     "data": {
      "text/plain": [
       "(5.7875, 43.96875)"
      ]
     },
     "execution_count": 19,
     "metadata": {},
     "output_type": "execute_result"
    }
   ],
   "source": [
    "calc_mae(y, y_pred3), calc_mse(y, y_pred3)"
   ]
  },
  {
   "cell_type": "markdown",
   "metadata": {
    "id": "JAOgIXLRa--g"
   },
   "source": [
    "Градиентный спуск"
   ]
  },
  {
   "cell_type": "code",
   "execution_count": 20,
   "metadata": {
    "id": "DNebwUP7Fd8F"
   },
   "outputs": [],
   "source": [
    "n = 10\n",
    "Q = 1/n * np.sum((y_pred3 - y)**2) # функционал ошибки, y = X*w"
   ]
  },
  {
   "cell_type": "code",
   "execution_count": 21,
   "metadata": {
    "id": "5DKkvmkwHdOx"
   },
   "outputs": [],
   "source": [
    "alpha = 1e-2 # величина шага\n",
    "g = alpha * (1/n * 2 * np.sum(X[0] * (W[0] * X[0] - y)))"
   ]
  },
  {
   "cell_type": "code",
   "execution_count": 22,
   "metadata": {
    "colab": {
     "base_uri": "https://localhost:8080/",
     "height": 34
    },
    "id": "ZVRCF5P2MYI6",
    "outputId": "0b0e2f05-a23c-4bf8-f37d-b4240d2e0af0",
    "scrolled": true
   },
   "outputs": [
    {
     "data": {
      "text/plain": [
       "(45.0625, 45.29125)"
      ]
     },
     "execution_count": 22,
     "metadata": {},
     "output_type": "execute_result"
    }
   ],
   "source": [
    "W[0], W[0] - g"
   ]
  },
  {
   "cell_type": "markdown",
   "metadata": {
    "id": "QqGEYJDNBjaP"
   },
   "source": [
    "### Практическое задание"
   ]
  },
  {
   "cell_type": "markdown",
   "metadata": {
    "id": "huXrhXQsZTMt"
   },
   "source": [
    "1. Подберите скорость обучения (alpha) и количество итераций."
   ]
  },
  {
   "cell_type": "code",
   "execution_count": 23,
   "metadata": {},
   "outputs": [
    {
     "name": "stdout",
     "output_type": "stream",
     "text": [
      "Number of objects = 10        \n",
      "Learning rate = 0.1        \n",
      "Initial weights = [1.  0.5] \n",
      "\n",
      "Iteration #0: W_new = [11.8 38.2], MSE = 3047.75\n",
      "Iteration #10: W_new = [12651.73553914 69617.0969639 ], MSE = 18310954068.05\n",
      "Iteration #20: W_new = [ 7732434.81888021 42641607.37852184], MSE = 9128819654907560.0\n",
      "Iteration #30: W_new = [1.06344502e+09 5.86454589e+09], MSE = 2.3279203642668532e+20\n",
      "Iteration #40: W_new = [3.00127077e+10 1.65510116e+11], MSE = 2.5451335298159553e+23\n",
      "Iteration #50: W_new = [1.55345341e+11 8.56677968e+11], MSE = 9.572295620500168e+24\n",
      "Iteration #60: W_new = [1.27742291e+11 7.04456313e+11], MSE = 9.351480126476044e+24\n",
      "Iteration #70: W_new = [1.38141953e+10 7.61806995e+10], MSE = 1.6408589528284036e+23\n",
      "Iteration #80: W_new = [1.51674189e+08 8.36432543e+08], MSE = 3.125533537874497e+19\n",
      "Iteration #90: W_new = [116395.49983176 641638.79865191], MSE = 31317286806394.77\n",
      "Iteration #100: W_new = [48.41962984 22.99884537], MSE = 53518.86\n",
      "Iteration #110: W_new = [44.97713543  3.82798768], MSE = 43.97\n"
     ]
    }
   ],
   "source": [
    "n = X.shape[1]\n",
    "alpha = 1e-1\n",
    "W = np.array([1, 0.5])\n",
    "print(f'Number of objects = {n} \\\n",
    "       \\nLearning rate = {alpha} \\\n",
    "       \\nInitial weights = {W} \\n')\n",
    "\n",
    "for i in range(120):\n",
    "    y_pred = np.dot(W, X)\n",
    "    err = calc_mse(y, y_pred)\n",
    "    for k in range(W.shape[0]):\n",
    "        W[k] -= alpha * (1/n * 2 * np.sum(X[k] * (y_pred - y)))\n",
    "    # уменьшаем alpha с каждой 10 итерацией.\n",
    "    if i % 10 == 0:\n",
    "        alpha /= 1.1\n",
    "        print(f'Iteration #{i}: W_new = {W}, MSE = {round(err,2)}')"
   ]
  },
  {
   "cell_type": "markdown",
   "metadata": {},
   "source": [
    "__Ответ:__ В данном программном алгоритме применяется методика использования переменного размера шага: с каждой 10 итерацией размер шага уменьшается в 1.1 раз. Размер среднеквадратичной ошибки рассматривается с точностью до 2 знаков после запятой. \n",
    "\n",
    "С помощью градиентного спуска удалось добиться минимального значения MSE = 43.97, например, при параметрах:\n",
    "\n",
    "* Шаг: 1e-1\n",
    "* Количество итераций: 120"
   ]
  },
  {
   "cell_type": "markdown",
   "metadata": {
    "id": "5Qu1o4JhZYwI"
   },
   "source": [
    "*2. В этом коде мы избавляемся от итераций по весам, но здесь есть ошибка, исправьте её.\n"
   ]
  },
  {
   "cell_type": "markdown",
   "metadata": {},
   "source": [
    "Код с ошибкой:"
   ]
  },
  {
   "cell_type": "code",
   "execution_count": 24,
   "metadata": {
    "colab": {
     "base_uri": "https://localhost:8080/",
     "height": 185
    },
    "id": "WZZzDCQLY4pA",
    "outputId": "28f58ade-72f2-4381-809d-2417752d56e4"
   },
   "outputs": [
    {
     "name": "stdout",
     "output_type": "stream",
     "text": [
      "Number of objects = 10        \n",
      "Learning rate = 0.01        \n",
      "Initial weights = [1.  0.5] \n",
      "\n",
      "Iteration #0: W_new = [5.85 5.35], MSE = 3047.75\n",
      "Iteration #10: W_new = [11.0965715 10.5965715], MSE = 597.49\n",
      "Iteration #20: W_new = [11.10415569 10.60415569], MSE = 597.49\n",
      "Iteration #30: W_new = [11.10416665 10.60416665], MSE = 597.49\n",
      "Iteration #40: W_new = [11.10416667 10.60416667], MSE = 597.49\n",
      "Iteration #50: W_new = [11.10416667 10.60416667], MSE = 597.49\n",
      "Iteration #60: W_new = [11.10416667 10.60416667], MSE = 597.49\n",
      "Iteration #70: W_new = [11.10416667 10.60416667], MSE = 597.49\n",
      "Iteration #80: W_new = [11.10416667 10.60416667], MSE = 597.49\n",
      "Iteration #90: W_new = [11.10416667 10.60416667], MSE = 597.49\n"
     ]
    }
   ],
   "source": [
    "n = X.shape[1]\n",
    "alpha = 1e-2\n",
    "W = np.array([1, 0.5])\n",
    "print(f'Number of objects = {n} \\\n",
    "       \\nLearning rate = {alpha} \\\n",
    "       \\nInitial weights = {W} \\n')\n",
    "\n",
    "for i in range(100):\n",
    "    y_pred = np.dot(W, X)\n",
    "    err = calc_mse(y, y_pred)\n",
    "#     for k in range(W.shape[0]):\n",
    "#         W[k] -= alpha * (1/n * 2 * np.sum(X[k] * (y_pred - y)))\n",
    "    W -= alpha * (1/n * 2 * np.sum(X * (y_pred - y)))\n",
    "    W_pred = W\n",
    "    if i % 10 == 0:\n",
    "        print(f'Iteration #{i}: W_new = {W}, MSE = {round(err,2)}')"
   ]
  },
  {
   "cell_type": "markdown",
   "metadata": {},
   "source": [
    "Исправленый код:"
   ]
  },
  {
   "cell_type": "code",
   "execution_count": 25,
   "metadata": {},
   "outputs": [
    {
     "name": "stdout",
     "output_type": "stream",
     "text": [
      "Number of objects = 10        \n",
      "Learning rate = 0.01        \n",
      "Initial weights = [1.  0.5] \n",
      "\n",
      "Iteration #0: W_new = [2.08 4.27], MSE = 3047.75\n",
      "Iteration #50: W_new = [18.69110735  8.59454545], MSE = 377.58\n",
      "Iteration #100: W_new = [28.38281518  6.83710367], MSE = 177.43\n",
      "Iteration #150: W_new = [34.51273915  5.72553647], MSE = 97.36\n",
      "Iteration #200: W_new = [38.38986469  5.02247953], MSE = 65.33\n",
      "Iteration #250: W_new = [40.84211409  4.57780191], MSE = 52.51\n",
      "Iteration #300: W_new = [42.39314129  4.29654705], MSE = 47.39\n",
      "Iteration #350: W_new = [43.37415299  4.1186557 ], MSE = 45.34\n",
      "Iteration #400: W_new = [43.99463466  4.00614091], MSE = 44.52\n",
      "Iteration #450: W_new = [44.38708413  3.93497626], MSE = 44.19\n",
      "Iteration #500: W_new = [44.63530512  3.8899652 ], MSE = 44.06\n",
      "Iteration #550: W_new = [44.79230282  3.86149609], MSE = 44.0\n",
      "Iteration #600: W_new = [44.89160255  3.84348962], MSE = 43.98\n",
      "Iteration #650: W_new = [44.95440879  3.83210067], MSE = 43.97\n",
      "Iteration #700: W_new = [44.99413322  3.82489726], MSE = 43.97\n",
      "Iteration #750: W_new = [45.01925858  3.82034116], MSE = 43.97\n"
     ]
    }
   ],
   "source": [
    "n = X.shape[1]\n",
    "alpha = 1e-2\n",
    "W = np.array([1, 0.5])\n",
    "print(f'Number of objects = {n} \\\n",
    "       \\nLearning rate = {alpha} \\\n",
    "       \\nInitial weights = {W} \\n')\n",
    "\n",
    "for i in range(800):\n",
    "    y_pred = np.dot(W, X)  \n",
    "    W -= alpha * (1/n * 2 * np.dot(X, (y_pred - y)))\n",
    "    if i % 50 == 0:\n",
    "        err = calc_mse(y, y_pred) \n",
    "        print(f'Iteration #{i}: W_new = {W}, MSE = {round(err,2)}')"
   ]
  },
  {
   "cell_type": "markdown",
   "metadata": {
    "id": "dNd19yVmBjaR"
   },
   "source": [
    "*3. Вместо того чтобы задавать количество итераций, задайте условие остановки алгоритма, когда ошибка за итерацию начинает изменяться ниже определённого порога — упрощённый аналог параметра tol в линейной регрессии в sklearn."
   ]
  },
  {
   "cell_type": "code",
   "execution_count": 26,
   "metadata": {
    "id": "VjV39BwKBjaR"
   },
   "outputs": [
    {
     "name": "stdout",
     "output_type": "stream",
     "text": [
      "Number of objects = 10        \n",
      "Learning rate = 0.01        \n",
      "Initial weights = [1.  0.5] \n",
      "\n",
      "Iteration #50: W_new = [18.44838865  8.63855875], MSE = 383.7456\n",
      "Iteration #100: W_new = [28.22929764  6.86494171], MSE = 179.895\n",
      "Iteration #150: W_new = [34.41564059  5.7431438 ], MSE = 98.3455\n",
      "Iteration #200: W_new = [38.32845066  5.03361602], MSE = 65.7219\n",
      "Iteration #250: W_new = [40.80327023  4.58484565], MSE = 52.671\n",
      "Iteration #300: W_new = [42.36857287  4.30100215], MSE = 47.4501\n",
      "Iteration #350: W_new = [43.35861367  4.12147351], MSE = 45.3614\n",
      "Iteration #400: W_new = [43.98480618  4.00792316], MSE = 44.5259\n",
      "Iteration #450: W_new = [44.38086769  3.93610351], MSE = 44.1916\n",
      "Iteration #500: W_new = [44.63137328  3.89067818], MSE = 44.0579\n",
      "Iteration #550: W_new = [44.78981596  3.86194705], MSE = 44.0044\n",
      "Iteration #600: W_new = [44.89002963  3.84377484], MSE = 43.983\n",
      "Iteration #650: W_new = [44.95341394  3.83228108], MSE = 43.9745\n",
      "Iteration #700: W_new = [44.99350398  3.82501136], MSE = 43.971\n",
      "Iteration #750: W_new = [45.0188606   3.82041333], MSE = 43.9697\n",
      "Iteration #800: W_new = [45.03489844  3.81750512], MSE = 43.9691\n",
      "Iteration #850: W_new = [45.04504225  3.81566569], MSE = 43.9689\n",
      "Iteration #900: W_new = [45.05145812  3.81450228], MSE = 43.9688\n"
     ]
    }
   ],
   "source": [
    "# количество объектов\n",
    "n = X.shape[1]\n",
    "\n",
    "# шаг\n",
    "alpha = 1e-2\n",
    "\n",
    "# критерий сходимости (условие остановки алгоритма)\n",
    "min_weight_dist = 1e-4\n",
    "\n",
    "# начальная разница весов\n",
    "weight_dist = np.inf\n",
    "\n",
    "# установка начальной точки\n",
    "W = np.array([1, 0.5])\n",
    "\n",
    "# чтобы не было бесконечного цикла, в случае отсутсвтия сходимости:\n",
    "iter_num = 0\n",
    "max_iter = 1e6\n",
    "\n",
    "print(f'Number of objects = {n} \\\n",
    "       \\nLearning rate = {alpha} \\\n",
    "       \\nInitial weights = {W} \\n')\n",
    "\n",
    "while (weight_dist > min_weight_dist) and (iter_num < max_iter):\n",
    "    y_pred = np.dot(W, X) \n",
    "    delta_w = alpha * (1/n * 2 * np.dot(X, (y_pred - y)))\n",
    "    W -= delta_w\n",
    "    weight_dist = np.linalg.norm(delta_w, ord=2)\n",
    "    iter_num += 1\n",
    "    if iter_num % 50 == 0:\n",
    "        err = calc_mse(y, y_pred) \n",
    "        print(f'Iteration #{iter_num}: W_new = {W}, MSE = {round(err,4)}')    "
   ]
  },
  {
   "cell_type": "markdown",
   "metadata": {},
   "source": [
    "4. Сделайте выводы по результатам работы с GD: что повышает качество результата, что понижает."
   ]
  },
  {
   "cell_type": "markdown",
   "metadata": {},
   "source": [
    "* Чем ближе критерий сходимости $\\varepsilon$ к 0, тем выше качество результата и наоборот.\n",
    "* Чем меньше шаг обучения, тем больше нужно итераций, поскольку движение от начальной точки к точке минимума происходит медленно. Соответственно в данном случае чем меньше итераций, тем ниже качество результата и наоборот.\n",
    "* Чем меньше шаг обучения, тем менее вероятно попасть в ситуацию, когда производная по функции ошибки равна бесконечности (крутая поверхность ошибки). Из-за высокого шага обучения, например, наш алгоритм может постоянно попадать в точки, в которых производная имеет очень большое значение. Поэтому чем меньше шаг обучения, тем выше качество и наоборот. \n",
    "* Выбор начальной точки очень важен, однако как я понимаю носит некий случайный характер. Это связано с тем, что в зависимости от поверхности ошибки, наш \"спуск\" может пойти в совершенно разные стороны и поэтому результат может быть разным. Поэтому при оптимизации весов для лучшего качества результата, нужно прогнать алгоритм с использованием нескольких вариантов начальных точек."
   ]
  },
  {
   "cell_type": "markdown",
   "metadata": {},
   "source": [
    "---"
   ]
  }
 ],
 "metadata": {
  "colab": {
   "collapsed_sections": [],
   "name": "Lesson_1_script.ipynb",
   "provenance": []
  },
  "kernelspec": {
   "display_name": "Python 3 (ipykernel)",
   "language": "python",
   "name": "python3"
  },
  "language_info": {
   "codemirror_mode": {
    "name": "ipython",
    "version": 3
   },
   "file_extension": ".py",
   "mimetype": "text/x-python",
   "name": "python",
   "nbconvert_exporter": "python",
   "pygments_lexer": "ipython3",
   "version": "3.9.7"
  }
 },
 "nbformat": 4,
 "nbformat_minor": 1
}
